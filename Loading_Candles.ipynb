{
  "nbformat": 4,
  "nbformat_minor": 0,
  "metadata": {
    "colab": {
      "provenance": [],
      "authorship_tag": "ABX9TyM5kczDdx9Hc0t2r4fYaAqz"
    },
    "kernelspec": {
      "name": "python3",
      "display_name": "Python 3"
    },
    "language_info": {
      "name": "python"
    }
  },
  "cells": [
    {
      "cell_type": "code",
      "execution_count": 28,
      "metadata": {
        "colab": {
          "base_uri": "https://localhost:8080/"
        },
        "id": "ZthELvaYNoiP",
        "outputId": "3f548ed7-62a1-4ba1-e055-ca42098a7120"
      },
      "outputs": [
        {
          "output_type": "stream",
          "name": "stdout",
          "text": [
            "{'Meta Data': {'1. Information': 'Daily Prices (open, high, low, close) and Volumes', '2. Symbol': 'IBM', '3. Last Refreshed': '2024-06-21', '4. Output Size': 'Compact', '5. Time Zone': 'US/Eastern'}, 'Time Series (Daily)': {'2024-06-21': {'1. open': '173.9700', '2. high': '174.9600', '3. low': '171.4000', '4. close': '172.4600', '5. volume': '10182025'}, '2024-06-20': {'1. open': '174.0800', '2. high': '174.2800', '3. low': '171.2200', '4. close': '173.9200', '5. volume': '4723078'}, '2024-06-18': {'1. open': '170.0000', '2. high': '170.7500', '3. low': '168.3800', '4. close': '170.5500', '5. volume': '3386442'}, '2024-06-17': {'1. open': '168.7600', '2. high': '169.7200', '3. low': '167.5000', '4. close': '169.5000', '5. volume': '3239815'}, '2024-06-14': {'1. open': '168.2900', '2. high': '169.4700', '3. low': '167.2300', '4. close': '169.2100', '5. volume': '2777717'}, '2024-06-13': {'1. open': '169.0100', '2. high': '169.5900', '3. low': '168.3350', '4. close': '169.1200', '5. volume': '3525717'}, '2024-06-12': {'1. open': '171.3500', '2. high': '172.4700', '3. low': '168.1010', '4. close': '169.0000', '5. volume': '3522698'}, '2024-06-11': {'1. open': '169.9800', '2. high': '170.0000', '3. low': '166.8100', '4. close': '169.3200', '5. volume': '2951251'}, '2024-06-10': {'1. open': '169.5500', '2. high': '170.7600', '3. low': '168.8800', '4. close': '170.3800', '5. volume': '3444684'}, '2024-06-07': {'1. open': '168.1800', '2. high': '171.3050', '3. low': '168.0600', '4. close': '170.0100', '5. volume': '3475495'}, '2024-06-06': {'1. open': '167.3800', '2. high': '168.4400', '3. low': '166.8000', '4. close': '168.2000', '5. volume': '2207263'}, '2024-06-05': {'1. open': '166.4100', '2. high': '167.7900', '3. low': '165.7800', '4. close': '167.3800', '5. volume': '3049377'}, '2024-06-04': {'1. open': '164.6000', '2. high': '166.4000', '3. low': '163.8800', '4. close': '165.8100', '5. volume': '2594203'}, '2024-06-03': {'1. open': '166.5400', '2. high': '166.7800', '3. low': '163.5300', '4. close': '165.2800', '5. volume': '2776058'}, '2024-05-31': {'1. open': '165.7000', '2. high': '166.9700', '3. low': '163.8400', '4. close': '166.8500', '5. volume': '4905002'}, '2024-05-30': {'1. open': '165.5600', '2. high': '166.7300', '3. low': '164.2300', '4. close': '165.6300', '5. volume': '3852963'}, '2024-05-29': {'1. open': '168.0000', '2. high': '168.6300', '3. low': '166.2100', '4. close': '167.0500', '5. volume': '4206576'}, '2024-05-28': {'1. open': '170.4400', '2. high': '171.0850', '3. low': '168.6500', '4. close': '169.6600', '5. volume': '2629645'}, '2024-05-24': {'1. open': '171.4800', '2. high': '172.0100', '3. low': '170.2100', '4. close': '170.8900', '5. volume': '2587829'}, '2024-05-23': {'1. open': '175.3900', '2. high': '175.4600', '3. low': '170.4350', '4. close': '170.6700', '5. volume': '3341335'}, '2024-05-22': {'1. open': '173.3900', '2. high': '174.9900', '3. low': '172.7600', '4. close': '173.6900', '5. volume': '3294900'}, '2024-05-21': {'1. open': '169.9400', '2. high': '174.9700', '3. low': '169.9400', '4. close': '173.4700', '5. volume': '6459800'}, '2024-05-20': {'1. open': '169.0000', '2. high': '170.1600', '3. low': '168.3800', '4. close': '169.9200', '5. volume': '2726261'}, '2024-05-17': {'1. open': '168.9700', '2. high': '169.1100', '3. low': '167.3300', '4. close': '169.0300', '5. volume': '2956387'}, '2024-05-16': {'1. open': '168.2600', '2. high': '169.6300', '3. low': '167.7900', '4. close': '168.9700', '5. volume': '3492267'}, '2024-05-15': {'1. open': '167.9400', '2. high': '168.3500', '3. low': '167.3400', '4. close': '168.2600', '5. volume': '4468823'}, '2024-05-14': {'1. open': '167.8600', '2. high': '168.1300', '3. low': '166.4800', '4. close': '167.3600', '5. volume': '2600967'}, '2024-05-13': {'1. open': '167.5000', '2. high': '168.0600', '3. low': '166.7600', '4. close': '167.5600', '5. volume': '2414859'}, '2024-05-10': {'1. open': '167.1300', '2. high': '168.0700', '3. low': '166.3200', '4. close': '167.1500', '5. volume': '2255370'}, '2024-05-09': {'1. open': '167.5000', '2. high': '167.5500', '3. low': '165.8800', '4. close': '166.2700', '5. volume': '4266616'}, '2024-05-08': {'1. open': '168.0100', '2. high': '170.2600', '3. low': '167.9000', '4. close': '169.9000', '5. volume': '3522011'}, '2024-05-07': {'1. open': '169.0000', '2. high': '169.2900', '3. low': '167.9400', '4. close': '168.3800', '5. volume': '3155260'}, '2024-05-06': {'1. open': '166.5000', '2. high': '168.6700', '3. low': '166.3800', '4. close': '168.6100', '5. volume': '4222266'}, '2024-05-03': {'1. open': '165.0000', '2. high': '166.6100', '3. low': '164.9200', '4. close': '165.7100', '5. volume': '3400405'}, '2024-05-02': {'1. open': '164.3500', '2. high': '164.8800', '3. low': '162.6200', '4. close': '164.6900', '5. volume': '3829853'}, '2024-05-01': {'1. open': '165.6900', '2. high': '166.2700', '3. low': '164.3000', '4. close': '164.4300', '5. volume': '4030960'}, '2024-04-30': {'1. open': '166.4900', '2. high': '166.7600', '3. low': '165.2605', '4. close': '166.2000', '5. volume': '6011634'}, '2024-04-29': {'1. open': '167.4000', '2. high': '168.2200', '3. low': '166.2250', '4. close': '167.4300', '5. volume': '5263342'}, '2024-04-26': {'1. open': '167.5000', '2. high': '167.8700', '3. low': '165.7300', '4. close': '167.1300', '5. volume': '8983796'}, '2024-04-25': {'1. open': '168.2000', '2. high': '172.4500', '3. low': '165.6600', '4. close': '168.9100', '5. volume': '16702150'}, '2024-04-24': {'1. open': '183.1700', '2. high': '184.2900', '3. low': '181.4000', '4. close': '184.1000', '5. volume': '7616643'}, '2024-04-23': {'1. open': '182.7300', '2. high': '184.6800', '3. low': '179.0000', '4. close': '182.1900', '5. volume': '5950229'}, '2024-04-22': {'1. open': '182.4500', '2. high': '183.3150', '3. low': '180.4500', '4. close': '181.9000', '5. volume': '3076451'}, '2024-04-19': {'1. open': '182.4300', '2. high': '182.8000', '3. low': '180.5700', '4. close': '181.5800', '5. volume': '3037990'}, '2024-04-18': {'1. open': '182.3500', '2. high': '183.4600', '3. low': '180.1700', '4. close': '181.4700', '5. volume': '2886733'}, '2024-04-17': {'1. open': '184.1600', '2. high': '184.6700', '3. low': '181.7800', '4. close': '183.1000', '5. volume': '3003033'}, '2024-04-16': {'1. open': '185.5900', '2. high': '185.7100', '3. low': '182.8600', '4. close': '183.7500', '5. volume': '4473654'}, '2024-04-15': {'1. open': '185.5700', '2. high': '187.4800', '3. low': '180.8800', '4. close': '181.2500', '5. volume': '3528140'}, '2024-04-12': {'1. open': '184.0000', '2. high': '185.1699', '3. low': '181.6850', '4. close': '182.2700', '5. volume': '3547378'}, '2024-04-11': {'1. open': '186.0400', '2. high': '186.7950', '3. low': '184.5800', '4. close': '185.9000', '5. volume': '2861736'}, '2024-04-10': {'1. open': '187.4200', '2. high': '187.9150', '3. low': '185.5200', '4. close': '186.0400', '5. volume': '3081915'}, '2024-04-09': {'1. open': '190.5400', '2. high': '191.2500', '3. low': '186.6600', '4. close': '189.3100', '5. volume': '2790673'}, '2024-04-08': {'1. open': '189.2400', '2. high': '190.2400', '3. low': '188.9118', '4. close': '189.8200', '5. volume': '2673611'}, '2024-04-05': {'1. open': '188.5900', '2. high': '190.3200', '3. low': '188.0200', '4. close': '189.1400', '5. volume': '2012428'}, '2024-04-04': {'1. open': '192.0000', '2. high': '193.2800', '3. low': '187.3400', '4. close': '187.9400', '5. volume': '2924438'}, '2024-04-03': {'1. open': '188.6000', '2. high': '191.3500', '3. low': '188.4850', '4. close': '190.9000', '5. volume': '2818910'}, '2024-04-02': {'1. open': '189.1400', '2. high': '189.8000', '3. low': '187.6000', '4. close': '188.8800', '5. volume': '2689711'}, '2024-04-01': {'1. open': '190.0000', '2. high': '190.4600', '3. low': '188.5200', '4. close': '189.8300', '5. volume': '2362586'}, '2024-03-28': {'1. open': '190.9400', '2. high': '191.9299', '3. low': '190.3400', '4. close': '190.9600', '5. volume': '3742169'}, '2024-03-27': {'1. open': '189.6000', '2. high': '190.9600', '3. low': '188.6000', '4. close': '190.8000', '5. volume': '3693305'}, '2024-03-26': {'1. open': '189.0200', '2. high': '190.0000', '3. low': '188.5000', '4. close': '188.5000', '5. volume': '4229535'}, '2024-03-25': {'1. open': '190.2600', '2. high': '190.8200', '3. low': '188.7500', '4. close': '188.7900', '5. volume': '3718289'}, '2024-03-22': {'1. open': '192.0000', '2. high': '192.9850', '3. low': '190.5100', '4. close': '190.8400', '5. volume': '3988398'}, '2024-03-21': {'1. open': '193.0000', '2. high': '193.3700', '3. low': '190.0100', '4. close': '191.9000', '5. volume': '6013561'}, '2024-03-20': {'1. open': '192.8700', '2. high': '193.9800', '3. low': '191.3100', '4. close': '193.9600', '5. volume': '3238643'}, '2024-03-19': {'1. open': '191.4900', '2. high': '193.5800', '3. low': '190.2800', '4. close': '193.3400', '5. volume': '5317341'}, '2024-03-18': {'1. open': '191.7000', '2. high': '193.2300', '3. low': '190.3200', '4. close': '191.6900', '5. volume': '5410562'}, '2024-03-15': {'1. open': '191.9900', '2. high': '193.0573', '3. low': '190.7000', '4. close': '191.0700', '5. volume': '8828184'}, '2024-03-14': {'1. open': '196.9500', '2. high': '197.7480', '3. low': '192.1200', '4. close': '193.4300', '5. volume': '4102202'}, '2024-03-13': {'1. open': '197.5500', '2. high': '198.1000', '3. low': '195.3200', '4. close': '196.7000', '5. volume': '3960737'}, '2024-03-12': {'1. open': '192.4600', '2. high': '199.1800', '3. low': '192.1500', '4. close': '197.7800', '5. volume': '5862512'}, '2024-03-11': {'1. open': '195.0900', '2. high': '195.3800', '3. low': '190.8800', '4. close': '191.7300', '5. volume': '4712688'}, '2024-03-08': {'1. open': '196.0600', '2. high': '197.7700', '3. low': '194.3800', '4. close': '195.9500', '5. volume': '3943113'}, '2024-03-07': {'1. open': '197.5800', '2. high': '198.7300', '3. low': '196.1400', '4. close': '196.5400', '5. volume': '4604458'}, '2024-03-06': {'1. open': '193.5000', '2. high': '198.1300', '3. low': '192.9600', '4. close': '196.1600', '5. volume': '6945818'}, '2024-03-05': {'1. open': '192.0000', '2. high': '193.9400', '3. low': '190.5700', '4. close': '191.9500', '5. volume': '5653641'}, '2024-03-04': {'1. open': '187.7600', '2. high': '193.8980', '3. low': '187.6000', '4. close': '193.0600', '5. volume': '7938266'}, '2024-03-01': {'1. open': '185.4900', '2. high': '188.3800', '3. low': '185.1800', '4. close': '188.2000', '5. volume': '4018354'}, '2024-02-29': {'1. open': '186.1500', '2. high': '186.8495', '3. low': '184.6900', '4. close': '185.0300', '5. volume': '6458487'}, '2024-02-28': {'1. open': '184.6300', '2. high': '185.3700', '3. low': '183.5500', '4. close': '185.3000', '5. volume': '3216345'}, '2024-02-27': {'1. open': '184.1600', '2. high': '185.1300', '3. low': '182.6200', '4. close': '184.8700', '5. volume': '3641378'}, '2024-02-26': {'1. open': '185.6000', '2. high': '186.1250', '3. low': '184.0600', '4. close': '184.1300', '5. volume': '4620815'}, '2024-02-23': {'1. open': '184.9000', '2. high': '186.4550', '3. low': '184.5700', '4. close': '185.7200', '5. volume': '3433800'}, '2024-02-22': {'1. open': '182.4500', '2. high': '184.5500', '3. low': '181.9300', '4. close': '184.2100', '5. volume': '5078398'}, '2024-02-21': {'1. open': '182.5600', '2. high': '183.0300', '3. low': '178.7500', '4. close': '179.7000', '5. volume': '4728473'}, '2024-02-20': {'1. open': '187.6400', '2. high': '188.7700', '3. low': '183.0600', '4. close': '183.4400', '5. volume': '4247181'}, '2024-02-16': {'1. open': '186.6300', '2. high': '188.9500', '3. low': '185.9452', '4. close': '187.6400', '5. volume': '4842840'}, '2024-02-15': {'1. open': '183.6200', '2. high': '186.9800', '3. low': '183.6200', '4. close': '186.8700', '5. volume': '4714301'}, '2024-02-14': {'1. open': '185.0000', '2. high': '185.0000', '3. low': '182.2600', '4. close': '183.5700', '5. volume': '3173391'}, '2024-02-13': {'1. open': '184.2800', '2. high': '184.7700', '3. low': '182.3600', '4. close': '183.7000', '5. volume': '4290453'}, '2024-02-12': {'1. open': '185.9000', '2. high': '186.4800', '3. low': '184.0300', '4. close': '186.1600', '5. volume': '4724021'}, '2024-02-09': {'1. open': '184.4400', '2. high': '187.1800', '3. low': '183.8500', '4. close': '186.3400', '5. volume': '5064641'}, '2024-02-08': {'1. open': '182.6300', '2. high': '184.5500', '3. low': '181.4900', '4. close': '184.3600', '5. volume': '5161185'}, '2024-02-07': {'1. open': '183.3400', '2. high': '184.0200', '3. low': '182.6250', '4. close': '183.7400', '5. volume': '4841188'}, '2024-02-06': {'1. open': '183.5500', '2. high': '184.6800', '3. low': '183.0400', '4. close': '183.4100', '5. volume': '3338196'}, '2024-02-05': {'1. open': '185.5100', '2. high': '185.7800', '3. low': '183.2550', '4. close': '183.4200', '5. volume': '4379602'}, '2024-02-02': {'1. open': '187.1000', '2. high': '187.3900', '3. low': '185.6150', '4. close': '185.7900', '5. volume': '4055411'}, '2024-02-01': {'1. open': '183.6300', '2. high': '187.5100', '3. low': '182.7100', '4. close': '186.9000', '5. volume': '4669444'}, '2024-01-31': {'1. open': '187.0500', '2. high': '187.6500', '3. low': '183.1400', '4. close': '183.6600', '5. volume': '8876055'}, '2024-01-30': {'1. open': '187.7100', '2. high': '188.6500', '3. low': '186.7700', '4. close': '187.8700', '5. volume': '4575058'}}}\n"
          ]
        }
      ],
      "source": [
        "import json\n",
        "import requests\n",
        "\n",
        "# replace the \"demo\" apikey below with your own key from https://www.alphavantage.co/support/#api-key\n",
        "url = 'https://www.alphavantage.co/query?function=TIME_SERIES_DAILY&symbol=IBM&apikey=demo'\n",
        "r = requests.get(url)\n",
        "data = r.json()"
      ]
    },
    {
      "cell_type": "code",
      "source": [
        "# availiable candle size: 1 (1 minute), 5 (5 minutes), 15 (1 minutes), 30 (30 minutes), 60 (60 minutes), 24 (daily)"
      ],
      "metadata": {
        "id": "ziRjKHxmWuEZ"
      },
      "execution_count": null,
      "outputs": []
    },
    {
      "cell_type": "code",
      "source": [
        "# create candle model\n",
        "import datetime\n",
        "\n",
        "class Candle():\n",
        "  @property\n",
        "  def id(self):\n",
        "    pass\n",
        "\n",
        "  @property\n",
        "  def date_time(self):\n",
        "    pass\n",
        "\n",
        "  @property\n",
        "  def ticker(self):\n",
        "    pass\n",
        "\n",
        "  @property\n",
        "  def size(self):\n",
        "    pass\n",
        "\n",
        "  @property\n",
        "  def source(self):\n",
        "    pass\n",
        "\n",
        "  @property\n",
        "  def open(self):\n",
        "    pass\n",
        "\n",
        "  @property\n",
        "  def max(self):\n",
        "    pass\n",
        "\n",
        "  @property\n",
        "  def min(self):\n",
        "    pass\n",
        "\n",
        "  @property\n",
        "  def close(self):\n",
        "    pass\n",
        "\n",
        "  @property\n",
        "  def volume(self):\n",
        "    pass\n",
        "\n",
        "  def __init__(self, id: str, date_time: datetime.datetime, ticker: str, size: int,\n",
        "            source: str, open: float, max: float, min: float, close: float,\n",
        "            volume: int):\n",
        "    self._id = id\n",
        "    self._date_time = date_time\n",
        "    self._ticker = ticker\n",
        "    self._size = size\n",
        "    self._source = source\n",
        "    self._open = open\n",
        "    self._max = max\n",
        "    self._min = min\n",
        "    self._close = close\n",
        "    self._volume = volume\n",
        "\n",
        "  def __str__(self) -> str:\n",
        "    return f\"datetime: {self._date_time}, open: {self._open}, high: {self._max}, low: {self._min}, close: {self._close}, volume: {self._volume}\"\n",
        "\n",
        "  def __repr__(self) -> str:\n",
        "    return f\"datetime: {self._date_time}, open: {self._open}, high: {self._max}, low: {self._min}, close: {self._close}, volume: {self._volume}\""
      ],
      "metadata": {
        "id": "0LEY8p2mNvIT"
      },
      "execution_count": 55,
      "outputs": []
    },
    {
      "cell_type": "code",
      "source": [
        "# candles json processing\n",
        "import datetime\n",
        "\n",
        "candle_keys = [key for key in data['Time Series (Daily)']]\n",
        "candles = []\n",
        "candle_size = 24\n",
        "source = 'global'\n",
        "ticker = data['Meta Data']['2. Symbol']\n",
        "for key in candle_keys:\n",
        "  id = str(key) + str(ticker) + str(candle_size)\n",
        "  candle = Candle(id,\n",
        "                  datetime.datetime.strptime(key, '%Y-%m-%d'),\n",
        "                  ticker,\n",
        "                  candle_size,\n",
        "                  source,\n",
        "                  float(data['Time Series (Daily)'][key]['1. open']),\n",
        "                  float(data['Time Series (Daily)'][key]['2. high']),\n",
        "                  float(data['Time Series (Daily)'][key]['3. low']),\n",
        "                  float(data['Time Series (Daily)'][key]['4. close']),\n",
        "                  int(data['Time Series (Daily)'][key]['5. volume']))\n",
        "  candles.append(candle)"
      ],
      "metadata": {
        "colab": {
          "base_uri": "https://localhost:8080/"
        },
        "id": "-1t5dlOmT5mb",
        "outputId": "b9423a55-22be-4a57-f882-e7b1e525ce6a"
      },
      "execution_count": 57,
      "outputs": [
        {
          "output_type": "stream",
          "name": "stdout",
          "text": [
            "datetime: 2024-06-21 00:00:00, open: 173.97, high: 174.96, low: 171.4, close: 172.46, volume: 10182025\n",
            "datetime: 2024-06-20 00:00:00, open: 174.08, high: 174.28, low: 171.22, close: 173.92, volume: 4723078\n",
            "datetime: 2024-06-18 00:00:00, open: 170.0, high: 170.75, low: 168.38, close: 170.55, volume: 3386442\n",
            "datetime: 2024-06-17 00:00:00, open: 168.76, high: 169.72, low: 167.5, close: 169.5, volume: 3239815\n",
            "datetime: 2024-06-14 00:00:00, open: 168.29, high: 169.47, low: 167.23, close: 169.21, volume: 2777717\n",
            "datetime: 2024-06-13 00:00:00, open: 169.01, high: 169.59, low: 168.335, close: 169.12, volume: 3525717\n",
            "datetime: 2024-06-12 00:00:00, open: 171.35, high: 172.47, low: 168.101, close: 169.0, volume: 3522698\n",
            "datetime: 2024-06-11 00:00:00, open: 169.98, high: 170.0, low: 166.81, close: 169.32, volume: 2951251\n",
            "datetime: 2024-06-10 00:00:00, open: 169.55, high: 170.76, low: 168.88, close: 170.38, volume: 3444684\n",
            "datetime: 2024-06-07 00:00:00, open: 168.18, high: 171.305, low: 168.06, close: 170.01, volume: 3475495\n",
            "datetime: 2024-06-06 00:00:00, open: 167.38, high: 168.44, low: 166.8, close: 168.2, volume: 2207263\n",
            "datetime: 2024-06-05 00:00:00, open: 166.41, high: 167.79, low: 165.78, close: 167.38, volume: 3049377\n",
            "datetime: 2024-06-04 00:00:00, open: 164.6, high: 166.4, low: 163.88, close: 165.81, volume: 2594203\n",
            "datetime: 2024-06-03 00:00:00, open: 166.54, high: 166.78, low: 163.53, close: 165.28, volume: 2776058\n",
            "datetime: 2024-05-31 00:00:00, open: 165.7, high: 166.97, low: 163.84, close: 166.85, volume: 4905002\n",
            "datetime: 2024-05-30 00:00:00, open: 165.56, high: 166.73, low: 164.23, close: 165.63, volume: 3852963\n",
            "datetime: 2024-05-29 00:00:00, open: 168.0, high: 168.63, low: 166.21, close: 167.05, volume: 4206576\n",
            "datetime: 2024-05-28 00:00:00, open: 170.44, high: 171.085, low: 168.65, close: 169.66, volume: 2629645\n",
            "datetime: 2024-05-24 00:00:00, open: 171.48, high: 172.01, low: 170.21, close: 170.89, volume: 2587829\n",
            "datetime: 2024-05-23 00:00:00, open: 175.39, high: 175.46, low: 170.435, close: 170.67, volume: 3341335\n",
            "datetime: 2024-05-22 00:00:00, open: 173.39, high: 174.99, low: 172.76, close: 173.69, volume: 3294900\n",
            "datetime: 2024-05-21 00:00:00, open: 169.94, high: 174.97, low: 169.94, close: 173.47, volume: 6459800\n",
            "datetime: 2024-05-20 00:00:00, open: 169.0, high: 170.16, low: 168.38, close: 169.92, volume: 2726261\n",
            "datetime: 2024-05-17 00:00:00, open: 168.97, high: 169.11, low: 167.33, close: 169.03, volume: 2956387\n",
            "datetime: 2024-05-16 00:00:00, open: 168.26, high: 169.63, low: 167.79, close: 168.97, volume: 3492267\n",
            "datetime: 2024-05-15 00:00:00, open: 167.94, high: 168.35, low: 167.34, close: 168.26, volume: 4468823\n",
            "datetime: 2024-05-14 00:00:00, open: 167.86, high: 168.13, low: 166.48, close: 167.36, volume: 2600967\n",
            "datetime: 2024-05-13 00:00:00, open: 167.5, high: 168.06, low: 166.76, close: 167.56, volume: 2414859\n",
            "datetime: 2024-05-10 00:00:00, open: 167.13, high: 168.07, low: 166.32, close: 167.15, volume: 2255370\n",
            "datetime: 2024-05-09 00:00:00, open: 167.5, high: 167.55, low: 165.88, close: 166.27, volume: 4266616\n",
            "datetime: 2024-05-08 00:00:00, open: 168.01, high: 170.26, low: 167.9, close: 169.9, volume: 3522011\n",
            "datetime: 2024-05-07 00:00:00, open: 169.0, high: 169.29, low: 167.94, close: 168.38, volume: 3155260\n",
            "datetime: 2024-05-06 00:00:00, open: 166.5, high: 168.67, low: 166.38, close: 168.61, volume: 4222266\n",
            "datetime: 2024-05-03 00:00:00, open: 165.0, high: 166.61, low: 164.92, close: 165.71, volume: 3400405\n",
            "datetime: 2024-05-02 00:00:00, open: 164.35, high: 164.88, low: 162.62, close: 164.69, volume: 3829853\n",
            "datetime: 2024-05-01 00:00:00, open: 165.69, high: 166.27, low: 164.3, close: 164.43, volume: 4030960\n",
            "datetime: 2024-04-30 00:00:00, open: 166.49, high: 166.76, low: 165.2605, close: 166.2, volume: 6011634\n",
            "datetime: 2024-04-29 00:00:00, open: 167.4, high: 168.22, low: 166.225, close: 167.43, volume: 5263342\n",
            "datetime: 2024-04-26 00:00:00, open: 167.5, high: 167.87, low: 165.73, close: 167.13, volume: 8983796\n",
            "datetime: 2024-04-25 00:00:00, open: 168.2, high: 172.45, low: 165.66, close: 168.91, volume: 16702150\n",
            "datetime: 2024-04-24 00:00:00, open: 183.17, high: 184.29, low: 181.4, close: 184.1, volume: 7616643\n",
            "datetime: 2024-04-23 00:00:00, open: 182.73, high: 184.68, low: 179.0, close: 182.19, volume: 5950229\n",
            "datetime: 2024-04-22 00:00:00, open: 182.45, high: 183.315, low: 180.45, close: 181.9, volume: 3076451\n",
            "datetime: 2024-04-19 00:00:00, open: 182.43, high: 182.8, low: 180.57, close: 181.58, volume: 3037990\n",
            "datetime: 2024-04-18 00:00:00, open: 182.35, high: 183.46, low: 180.17, close: 181.47, volume: 2886733\n",
            "datetime: 2024-04-17 00:00:00, open: 184.16, high: 184.67, low: 181.78, close: 183.1, volume: 3003033\n",
            "datetime: 2024-04-16 00:00:00, open: 185.59, high: 185.71, low: 182.86, close: 183.75, volume: 4473654\n",
            "datetime: 2024-04-15 00:00:00, open: 185.57, high: 187.48, low: 180.88, close: 181.25, volume: 3528140\n",
            "datetime: 2024-04-12 00:00:00, open: 184.0, high: 185.1699, low: 181.685, close: 182.27, volume: 3547378\n",
            "datetime: 2024-04-11 00:00:00, open: 186.04, high: 186.795, low: 184.58, close: 185.9, volume: 2861736\n",
            "datetime: 2024-04-10 00:00:00, open: 187.42, high: 187.915, low: 185.52, close: 186.04, volume: 3081915\n",
            "datetime: 2024-04-09 00:00:00, open: 190.54, high: 191.25, low: 186.66, close: 189.31, volume: 2790673\n",
            "datetime: 2024-04-08 00:00:00, open: 189.24, high: 190.24, low: 188.9118, close: 189.82, volume: 2673611\n",
            "datetime: 2024-04-05 00:00:00, open: 188.59, high: 190.32, low: 188.02, close: 189.14, volume: 2012428\n",
            "datetime: 2024-04-04 00:00:00, open: 192.0, high: 193.28, low: 187.34, close: 187.94, volume: 2924438\n",
            "datetime: 2024-04-03 00:00:00, open: 188.6, high: 191.35, low: 188.485, close: 190.9, volume: 2818910\n",
            "datetime: 2024-04-02 00:00:00, open: 189.14, high: 189.8, low: 187.6, close: 188.88, volume: 2689711\n",
            "datetime: 2024-04-01 00:00:00, open: 190.0, high: 190.46, low: 188.52, close: 189.83, volume: 2362586\n",
            "datetime: 2024-03-28 00:00:00, open: 190.94, high: 191.9299, low: 190.34, close: 190.96, volume: 3742169\n",
            "datetime: 2024-03-27 00:00:00, open: 189.6, high: 190.96, low: 188.6, close: 190.8, volume: 3693305\n",
            "datetime: 2024-03-26 00:00:00, open: 189.02, high: 190.0, low: 188.5, close: 188.5, volume: 4229535\n",
            "datetime: 2024-03-25 00:00:00, open: 190.26, high: 190.82, low: 188.75, close: 188.79, volume: 3718289\n",
            "datetime: 2024-03-22 00:00:00, open: 192.0, high: 192.985, low: 190.51, close: 190.84, volume: 3988398\n",
            "datetime: 2024-03-21 00:00:00, open: 193.0, high: 193.37, low: 190.01, close: 191.9, volume: 6013561\n",
            "datetime: 2024-03-20 00:00:00, open: 192.87, high: 193.98, low: 191.31, close: 193.96, volume: 3238643\n",
            "datetime: 2024-03-19 00:00:00, open: 191.49, high: 193.58, low: 190.28, close: 193.34, volume: 5317341\n",
            "datetime: 2024-03-18 00:00:00, open: 191.7, high: 193.23, low: 190.32, close: 191.69, volume: 5410562\n",
            "datetime: 2024-03-15 00:00:00, open: 191.99, high: 193.0573, low: 190.7, close: 191.07, volume: 8828184\n",
            "datetime: 2024-03-14 00:00:00, open: 196.95, high: 197.748, low: 192.12, close: 193.43, volume: 4102202\n",
            "datetime: 2024-03-13 00:00:00, open: 197.55, high: 198.1, low: 195.32, close: 196.7, volume: 3960737\n",
            "datetime: 2024-03-12 00:00:00, open: 192.46, high: 199.18, low: 192.15, close: 197.78, volume: 5862512\n",
            "datetime: 2024-03-11 00:00:00, open: 195.09, high: 195.38, low: 190.88, close: 191.73, volume: 4712688\n",
            "datetime: 2024-03-08 00:00:00, open: 196.06, high: 197.77, low: 194.38, close: 195.95, volume: 3943113\n",
            "datetime: 2024-03-07 00:00:00, open: 197.58, high: 198.73, low: 196.14, close: 196.54, volume: 4604458\n",
            "datetime: 2024-03-06 00:00:00, open: 193.5, high: 198.13, low: 192.96, close: 196.16, volume: 6945818\n",
            "datetime: 2024-03-05 00:00:00, open: 192.0, high: 193.94, low: 190.57, close: 191.95, volume: 5653641\n",
            "datetime: 2024-03-04 00:00:00, open: 187.76, high: 193.898, low: 187.6, close: 193.06, volume: 7938266\n",
            "datetime: 2024-03-01 00:00:00, open: 185.49, high: 188.38, low: 185.18, close: 188.2, volume: 4018354\n",
            "datetime: 2024-02-29 00:00:00, open: 186.15, high: 186.8495, low: 184.69, close: 185.03, volume: 6458487\n",
            "datetime: 2024-02-28 00:00:00, open: 184.63, high: 185.37, low: 183.55, close: 185.3, volume: 3216345\n",
            "datetime: 2024-02-27 00:00:00, open: 184.16, high: 185.13, low: 182.62, close: 184.87, volume: 3641378\n",
            "datetime: 2024-02-26 00:00:00, open: 185.6, high: 186.125, low: 184.06, close: 184.13, volume: 4620815\n",
            "datetime: 2024-02-23 00:00:00, open: 184.9, high: 186.455, low: 184.57, close: 185.72, volume: 3433800\n",
            "datetime: 2024-02-22 00:00:00, open: 182.45, high: 184.55, low: 181.93, close: 184.21, volume: 5078398\n",
            "datetime: 2024-02-21 00:00:00, open: 182.56, high: 183.03, low: 178.75, close: 179.7, volume: 4728473\n",
            "datetime: 2024-02-20 00:00:00, open: 187.64, high: 188.77, low: 183.06, close: 183.44, volume: 4247181\n",
            "datetime: 2024-02-16 00:00:00, open: 186.63, high: 188.95, low: 185.9452, close: 187.64, volume: 4842840\n",
            "datetime: 2024-02-15 00:00:00, open: 183.62, high: 186.98, low: 183.62, close: 186.87, volume: 4714301\n",
            "datetime: 2024-02-14 00:00:00, open: 185.0, high: 185.0, low: 182.26, close: 183.57, volume: 3173391\n",
            "datetime: 2024-02-13 00:00:00, open: 184.28, high: 184.77, low: 182.36, close: 183.7, volume: 4290453\n",
            "datetime: 2024-02-12 00:00:00, open: 185.9, high: 186.48, low: 184.03, close: 186.16, volume: 4724021\n",
            "datetime: 2024-02-09 00:00:00, open: 184.44, high: 187.18, low: 183.85, close: 186.34, volume: 5064641\n",
            "datetime: 2024-02-08 00:00:00, open: 182.63, high: 184.55, low: 181.49, close: 184.36, volume: 5161185\n",
            "datetime: 2024-02-07 00:00:00, open: 183.34, high: 184.02, low: 182.625, close: 183.74, volume: 4841188\n",
            "datetime: 2024-02-06 00:00:00, open: 183.55, high: 184.68, low: 183.04, close: 183.41, volume: 3338196\n",
            "datetime: 2024-02-05 00:00:00, open: 185.51, high: 185.78, low: 183.255, close: 183.42, volume: 4379602\n",
            "datetime: 2024-02-02 00:00:00, open: 187.1, high: 187.39, low: 185.615, close: 185.79, volume: 4055411\n",
            "datetime: 2024-02-01 00:00:00, open: 183.63, high: 187.51, low: 182.71, close: 186.9, volume: 4669444\n",
            "datetime: 2024-01-31 00:00:00, open: 187.05, high: 187.65, low: 183.14, close: 183.66, volume: 8876055\n",
            "datetime: 2024-01-30 00:00:00, open: 187.71, high: 188.65, low: 186.77, close: 187.87, volume: 4575058\n"
          ]
        }
      ]
    },
    {
      "cell_type": "code",
      "source": [],
      "metadata": {
        "colab": {
          "base_uri": "https://localhost:8080/",
          "height": 35
        },
        "id": "0Yo49BfHbjSG",
        "outputId": "93b13b01-047f-4fcd-d8bd-34b3c8670920"
      },
      "execution_count": 47,
      "outputs": [
        {
          "output_type": "execute_result",
          "data": {
            "text/plain": [
              "'IBM'"
            ],
            "application/vnd.google.colaboratory.intrinsic+json": {
              "type": "string"
            }
          },
          "metadata": {},
          "execution_count": 47
        }
      ]
    }
  ]
}